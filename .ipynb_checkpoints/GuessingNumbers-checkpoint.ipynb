{
 "cells": [
  {
   "cell_type": "markdown",
   "metadata": {
    "colab_type": "text",
    "id": "view-in-github"
   },
   "source": [
    "<a href=\"https://colab.research.google.com/github/FRCC-Geospatial-Science/GIS-3011-Assignment-One-Python-Review/blob/main/GuessingNumbers.ipynb\" target=\"_parent\"><img src=\"https://colab.research.google.com/assets/colab-badge.svg\" alt=\"Open In Colab\"/></a>"
   ]
  },
  {
   "cell_type": "markdown",
   "metadata": {
    "id": "ilSmgOMDp4Ma"
   },
   "source": [
    "\n",
    "**Writing a Random Number Guessing Game**\n",
    "As a class, we will need to use the created flow chart to write a program which guesses a number between 1 and 20.\n",
    "\n",
    "\n",
    "\n",
    "1.   Have the user input a number between 1 and 20\n",
    "2.   Give the user 6 chances to guess the number\n",
    "3.   You'll need the following:\n",
    "\n",
    "*   Variables\n",
    "*   Ranges\n",
    "*   Comparison Operators\n",
    "*   Flow Control\n",
    "*   Value Types\n",
    "*   Value Type Conversions\n",
    "*   Print statements\n",
    "\n",
    "\n",
    "\n",
    "\n",
    "\n"
   ]
  },
  {
   "cell_type": "code",
   "execution_count": null,
   "metadata": {
    "id": "om8tqmU3p5Sh"
   },
   "outputs": [
    {
     "name": "stdout",
     "output_type": "stream",
     "text": [
      "Lets play a game...guess the number I am thinking...your life depends on it...\n",
      "I'm thinking of a number between 1 and 20.\n"
     ]
    }
   ],
   "source": [
    "import random\n",
    "\n",
    "def guess_number():\n",
    "    # Generate a random number between 1 and 20\n",
    "    secret_number = random.randint(1, 20)\n",
    "    \n",
    "    # Number of attempts allowed\n",
    "    attempts = 6\n",
    "    \n",
    "    print(\"Lets play a game...guess the number I am thinking...your life depends on it...\")\n",
    "    print(\"I'm thinking of a number between 1 and 20.\")\n",
    "    \n",
    "    for attempt in range(1, attempts + 1):\n",
    "        guess = int(input(\"Take a guess: \"))\n",
    "        \n",
    "        if guess == secret_number:\n",
    "            print(\"Congratulations! You survived!\")\n",
    "            break\n",
    "        elif guess < secret_number:\n",
    "            print(\"Too low! Try again.\")\n",
    "        else:\n",
    "            print(\"Too high! Try again.\")\n",
    "        \n",
    "        if attempt < attempts:\n",
    "            print(f\"You have {attempts - attempt} {'attempt' if attempts - attempt == 1 else 'attempts'} left.\")\n",
    "        else:\n",
    "            print(f\"Sorry, dont check under your bed tonight. The correct number was {secret_number}.\")\n",
    "\n",
    "if __name__ == \"__main__\":\n",
    "    guess_number()\n"
   ]
  },
  {
   "cell_type": "code",
   "execution_count": null,
   "metadata": {},
   "outputs": [],
   "source": []
  }
 ],
 "metadata": {
  "colab": {
   "authorship_tag": "ABX9TyOyEl3ntg4yBC0QWDwH8461",
   "include_colab_link": true,
   "provenance": []
  },
  "kernelspec": {
   "display_name": "Python 3 (ipykernel)",
   "language": "python",
   "name": "python3"
  },
  "language_info": {
   "codemirror_mode": {
    "name": "ipython",
    "version": 3
   },
   "file_extension": ".py",
   "mimetype": "text/x-python",
   "name": "python",
   "nbconvert_exporter": "python",
   "pygments_lexer": "ipython3",
   "version": "3.10.13"
  }
 },
 "nbformat": 4,
 "nbformat_minor": 4
}
